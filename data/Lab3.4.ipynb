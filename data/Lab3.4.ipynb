{
 "cells": [
  {
   "cell_type": "code",
   "execution_count": 264,
   "id": "3ff6d260",
   "metadata": {},
   "outputs": [],
   "source": [
    "import pandas as pd\n",
    "import numpy as np"
   ]
  },
  {
   "cell_type": "code",
   "execution_count": 265,
   "id": "92a1a426",
   "metadata": {},
   "outputs": [],
   "source": [
    "film = pd.read_csv(r'C:\\Users\\diego\\Documents\\Mongo\\w3-database-project\\data\\film.csv')\n",
    "actor= pd.read_csv(r'C:\\Users\\diego\\Documents\\Mongo\\w3-database-project\\data\\actor.csv')\n",
    "category= pd.read_csv(r'C:\\Users\\diego\\Documents\\Mongo\\w3-database-project\\data\\category.csv')\n",
    "inventory= pd.read_csv(r'C:\\Users\\diego\\Documents\\Mongo\\w3-database-project\\data\\inventory.csv')\n",
    "language= pd.read_csv(r'C:\\Users\\diego\\Documents\\Mongo\\w3-database-project\\data\\language.csv')\n",
    "old_HDD= pd.read_csv(r'C:\\Users\\diego\\Documents\\Mongo\\w3-database-project\\data\\old_HDD.csv')\n",
    "rental= pd.read_csv(r'C:\\Users\\diego\\Documents\\Mongo\\w3-database-project\\data\\rental.csv')"
   ]
  },
  {
   "cell_type": "code",
   "execution_count": 266,
   "id": "8616c816",
   "metadata": {},
   "outputs": [],
   "source": [
    "lab=[film,actor,category,inventory,language,old_HDD,rental]"
   ]
  },
  {
   "cell_type": "code",
   "execution_count": 267,
   "id": "274833f0",
   "metadata": {},
   "outputs": [],
   "source": [
    "def rip(df):\n",
    "    for i in df:\n",
    "        if 'last_update' in i:\n",
    "            i.drop(columns=['last_update'],inplace=True)\n",
    "    \n",
    "        if 'original_language_id' in i:\n",
    "            i.drop(columns=['original_language_id'],inplace=True)\n",
    "        pass\n",
    "#En los DataFrame elimina las columnas con estos nombres"
   ]
  },
  {
   "cell_type": "code",
   "execution_count": 268,
   "id": "3b1790c9",
   "metadata": {},
   "outputs": [],
   "source": [
    "rip(lab)"
   ]
  },
  {
   "cell_type": "code",
   "execution_count": 269,
   "id": "5e8b6113",
   "metadata": {},
   "outputs": [],
   "source": [
    "def inventario(df):\n",
    "    return df.groupby('film_id')['store_id'].value_counts().reset_index(name='qty')"
   ]
  },
  {
   "cell_type": "code",
   "execution_count": 270,
   "id": "c2a8d838",
   "metadata": {},
   "outputs": [
    {
     "data": {
      "text/html": [
       "<div>\n",
       "<style scoped>\n",
       "    .dataframe tbody tr th:only-of-type {\n",
       "        vertical-align: middle;\n",
       "    }\n",
       "\n",
       "    .dataframe tbody tr th {\n",
       "        vertical-align: top;\n",
       "    }\n",
       "\n",
       "    .dataframe thead th {\n",
       "        text-align: right;\n",
       "    }\n",
       "</style>\n",
       "<table border=\"1\" class=\"dataframe\">\n",
       "  <thead>\n",
       "    <tr style=\"text-align: right;\">\n",
       "      <th></th>\n",
       "      <th>film_id</th>\n",
       "      <th>store_id</th>\n",
       "      <th>qty</th>\n",
       "    </tr>\n",
       "  </thead>\n",
       "  <tbody>\n",
       "    <tr>\n",
       "      <th>0</th>\n",
       "      <td>1</td>\n",
       "      <td>1</td>\n",
       "      <td>4</td>\n",
       "    </tr>\n",
       "    <tr>\n",
       "      <th>1</th>\n",
       "      <td>1</td>\n",
       "      <td>2</td>\n",
       "      <td>4</td>\n",
       "    </tr>\n",
       "    <tr>\n",
       "      <th>2</th>\n",
       "      <td>2</td>\n",
       "      <td>2</td>\n",
       "      <td>3</td>\n",
       "    </tr>\n",
       "    <tr>\n",
       "      <th>3</th>\n",
       "      <td>3</td>\n",
       "      <td>2</td>\n",
       "      <td>4</td>\n",
       "    </tr>\n",
       "    <tr>\n",
       "      <th>4</th>\n",
       "      <td>4</td>\n",
       "      <td>1</td>\n",
       "      <td>4</td>\n",
       "    </tr>\n",
       "    <tr>\n",
       "      <th>5</th>\n",
       "      <td>4</td>\n",
       "      <td>2</td>\n",
       "      <td>3</td>\n",
       "    </tr>\n",
       "    <tr>\n",
       "      <th>6</th>\n",
       "      <td>5</td>\n",
       "      <td>2</td>\n",
       "      <td>3</td>\n",
       "    </tr>\n",
       "    <tr>\n",
       "      <th>7</th>\n",
       "      <td>6</td>\n",
       "      <td>1</td>\n",
       "      <td>3</td>\n",
       "    </tr>\n",
       "    <tr>\n",
       "      <th>8</th>\n",
       "      <td>6</td>\n",
       "      <td>2</td>\n",
       "      <td>3</td>\n",
       "    </tr>\n",
       "    <tr>\n",
       "      <th>9</th>\n",
       "      <td>7</td>\n",
       "      <td>2</td>\n",
       "      <td>3</td>\n",
       "    </tr>\n",
       "  </tbody>\n",
       "</table>\n",
       "</div>"
      ],
      "text/plain": [
       "   film_id  store_id  qty\n",
       "0        1         1    4\n",
       "1        1         2    4\n",
       "2        2         2    3\n",
       "3        3         2    4\n",
       "4        4         1    4\n",
       "5        4         2    3\n",
       "6        5         2    3\n",
       "7        6         1    3\n",
       "8        6         2    3\n",
       "9        7         2    3"
      ]
     },
     "execution_count": 270,
     "metadata": {},
     "output_type": "execute_result"
    }
   ],
   "source": [
    "inv_film= inventario(inventory)\n",
    "inv_film.head(10)\n",
    "#Del DataFrame inventory, con la funcion anterior te modifica la tabla que une las film_id por store_id y lo suma en qty"
   ]
  },
  {
   "cell_type": "code",
   "execution_count": 271,
   "id": "0f723a65",
   "metadata": {},
   "outputs": [],
   "source": [
    "def fusionar(df, ncolumn, col1, col2):\n",
    "     df[ncolumn] = df[[col1, col2]].apply(\" \".join, axis =1)\n",
    "\n",
    "#Funcion fusionar"
   ]
  },
  {
   "cell_type": "code",
   "execution_count": 272,
   "id": "8ebfbf62",
   "metadata": {},
   "outputs": [],
   "source": [
    "fusionar(actor, \"full_name\", \"first_name\", \"last_name\")\n",
    "#En esta unimos first_name con last_name\n",
    "\n",
    "fusionar(old_HDD, \"actor_id\", \"first_name\", \"last_name\")\n",
    "#EN una nueva columna actor_id y te une first_name con last_name"
   ]
  },
  {
   "cell_type": "code",
   "execution_count": 273,
   "id": "f7e008fa",
   "metadata": {},
   "outputs": [],
   "source": [
    "def add_code(key: pd.Series, value: pd.Series, repl: pd.DataFrame, column: str ):\n",
    "    dictio = dict(zip(key, value))\n",
    "    for i in dictio.keys():\n",
    "        repl.replace({column : i}, dictio[i], inplace=True)\n",
    "        \n",
    "# Introduce un diccionario temporal con las keys y los values de series escogidas y sustituye, por esos values, los datos\n",
    "#en un DataFrame que localiza a través de la key del diccionario"
   ]
  },
  {
   "cell_type": "code",
   "execution_count": 274,
   "id": "cd25f38f",
   "metadata": {},
   "outputs": [],
   "source": [
    "add_code(actor.full_name, actor.actor_id, old_HDD, \"actor_id\")"
   ]
  },
  {
   "cell_type": "code",
   "execution_count": 275,
   "id": "991102cd",
   "metadata": {},
   "outputs": [],
   "source": [
    "def drop_table(df,columna_borrar):\n",
    "    try:\n",
    "        df.drop(columns=columna_borrar, inplace=True)\n",
    "    except:\n",
    "        pass"
   ]
  },
  {
   "cell_type": "code",
   "execution_count": 276,
   "id": "557d63d6",
   "metadata": {},
   "outputs": [],
   "source": [
    "col_del=['first_name','last_name','release_year']\n",
    "\n",
    "drop_table(old_HDD,col_del)\n",
    "\n",
    "#Eliminar las columnas de col_del mediante una funcion, porque si."
   ]
  },
  {
   "cell_type": "code",
   "execution_count": 277,
   "id": "61747515",
   "metadata": {},
   "outputs": [
    {
     "data": {
      "text/html": [
       "<div>\n",
       "<style scoped>\n",
       "    .dataframe tbody tr th:only-of-type {\n",
       "        vertical-align: middle;\n",
       "    }\n",
       "\n",
       "    .dataframe tbody tr th {\n",
       "        vertical-align: top;\n",
       "    }\n",
       "\n",
       "    .dataframe thead th {\n",
       "        text-align: right;\n",
       "    }\n",
       "</style>\n",
       "<table border=\"1\" class=\"dataframe\">\n",
       "  <thead>\n",
       "    <tr style=\"text-align: right;\">\n",
       "      <th></th>\n",
       "      <th>title</th>\n",
       "      <th>category_id</th>\n",
       "      <th>actor_id</th>\n",
       "    </tr>\n",
       "  </thead>\n",
       "  <tbody>\n",
       "    <tr>\n",
       "      <th>0</th>\n",
       "      <td>ACADEMY DINOSAUR</td>\n",
       "      <td>6</td>\n",
       "      <td>1</td>\n",
       "    </tr>\n",
       "    <tr>\n",
       "      <th>1</th>\n",
       "      <td>ANACONDA CONFESSIONS</td>\n",
       "      <td>2</td>\n",
       "      <td>1</td>\n",
       "    </tr>\n",
       "    <tr>\n",
       "      <th>2</th>\n",
       "      <td>ANGELS LIFE</td>\n",
       "      <td>13</td>\n",
       "      <td>1</td>\n",
       "    </tr>\n",
       "    <tr>\n",
       "      <th>3</th>\n",
       "      <td>BULWORTH COMMANDMENTS</td>\n",
       "      <td>10</td>\n",
       "      <td>1</td>\n",
       "    </tr>\n",
       "    <tr>\n",
       "      <th>4</th>\n",
       "      <td>CHEAPER CLYDE</td>\n",
       "      <td>14</td>\n",
       "      <td>1</td>\n",
       "    </tr>\n",
       "    <tr>\n",
       "      <th>...</th>\n",
       "      <td>...</td>\n",
       "      <td>...</td>\n",
       "      <td>...</td>\n",
       "    </tr>\n",
       "    <tr>\n",
       "      <th>995</th>\n",
       "      <td>COMANCHEROS ENEMY</td>\n",
       "      <td>3</td>\n",
       "      <td>39</td>\n",
       "    </tr>\n",
       "    <tr>\n",
       "      <th>996</th>\n",
       "      <td>DAISY MENAGERIE</td>\n",
       "      <td>14</td>\n",
       "      <td>39</td>\n",
       "    </tr>\n",
       "    <tr>\n",
       "      <th>997</th>\n",
       "      <td>DESERT POSEIDON</td>\n",
       "      <td>11</td>\n",
       "      <td>39</td>\n",
       "    </tr>\n",
       "    <tr>\n",
       "      <th>998</th>\n",
       "      <td>EVERYONE CRAFT</td>\n",
       "      <td>9</td>\n",
       "      <td>39</td>\n",
       "    </tr>\n",
       "    <tr>\n",
       "      <th>999</th>\n",
       "      <td>EXORCIST STING</td>\n",
       "      <td>15</td>\n",
       "      <td>39</td>\n",
       "    </tr>\n",
       "  </tbody>\n",
       "</table>\n",
       "<p>1000 rows × 3 columns</p>\n",
       "</div>"
      ],
      "text/plain": [
       "                     title  category_id  actor_id\n",
       "0         ACADEMY DINOSAUR            6         1\n",
       "1     ANACONDA CONFESSIONS            2         1\n",
       "2              ANGELS LIFE           13         1\n",
       "3    BULWORTH COMMANDMENTS           10         1\n",
       "4            CHEAPER CLYDE           14         1\n",
       "..                     ...          ...       ...\n",
       "995      COMANCHEROS ENEMY            3        39\n",
       "996        DAISY MENAGERIE           14        39\n",
       "997        DESERT POSEIDON           11        39\n",
       "998         EVERYONE CRAFT            9        39\n",
       "999         EXORCIST STING           15        39\n",
       "\n",
       "[1000 rows x 3 columns]"
      ]
     },
     "execution_count": 277,
     "metadata": {},
     "output_type": "execute_result"
    }
   ],
   "source": [
    "old_HDD"
   ]
  },
  {
   "cell_type": "code",
   "execution_count": 279,
   "id": "402fd718",
   "metadata": {},
   "outputs": [],
   "source": [
    "drop_table(actor,'full_name')\n",
    "\n",
    "#Eliminamos esta columna al no tener mas valor"
   ]
  },
  {
   "cell_type": "code",
   "execution_count": 280,
   "id": "ec4240f8",
   "metadata": {},
   "outputs": [
    {
     "data": {
      "text/html": [
       "<div>\n",
       "<style scoped>\n",
       "    .dataframe tbody tr th:only-of-type {\n",
       "        vertical-align: middle;\n",
       "    }\n",
       "\n",
       "    .dataframe tbody tr th {\n",
       "        vertical-align: top;\n",
       "    }\n",
       "\n",
       "    .dataframe thead th {\n",
       "        text-align: right;\n",
       "    }\n",
       "</style>\n",
       "<table border=\"1\" class=\"dataframe\">\n",
       "  <thead>\n",
       "    <tr style=\"text-align: right;\">\n",
       "      <th></th>\n",
       "      <th>staff_id</th>\n",
       "      <th>store_id</th>\n",
       "      <th>store</th>\n",
       "      <th>name</th>\n",
       "    </tr>\n",
       "  </thead>\n",
       "  <tbody>\n",
       "    <tr>\n",
       "      <th>0</th>\n",
       "      <td>1</td>\n",
       "      <td>1</td>\n",
       "      <td>Barcelona</td>\n",
       "      <td>Jorge</td>\n",
       "    </tr>\n",
       "    <tr>\n",
       "      <th>1</th>\n",
       "      <td>2</td>\n",
       "      <td>2</td>\n",
       "      <td>Madrid</td>\n",
       "      <td>Diego</td>\n",
       "    </tr>\n",
       "  </tbody>\n",
       "</table>\n",
       "</div>"
      ],
      "text/plain": [
       "   staff_id  store_id      store   name\n",
       "0         1         1  Barcelona  Jorge\n",
       "1         2         2     Madrid  Diego"
      ]
     },
     "execution_count": 280,
     "metadata": {},
     "output_type": "execute_result"
    }
   ],
   "source": [
    "'''\n",
    "Creamos una tabla llamada emp para especificar el id de los empleados y a que tiendan pertenecen. \n",
    "Añadiremos un tercer  empleado para que se vea la diferencia.\n",
    "'''\n",
    "\n",
    "emp = pd.DataFrame()\n",
    "\n",
    "empleados = 1,2\n",
    "tiendas = 1,2\n",
    "country = 'Barcelona','Madrid'\n",
    "names = 'Jorge','Diego'\n",
    "\n",
    "emp['staff_id'] = empleados\n",
    "emp['store_id'] = tiendas\n",
    "emp['store'] = country\n",
    "emp['name'] = names\n",
    "\n",
    "emp"
   ]
  },
  {
   "cell_type": "code",
   "execution_count": 281,
   "id": "a3ce99fa",
   "metadata": {},
   "outputs": [
    {
     "name": "stderr",
     "output_type": "stream",
     "text": [
      "C:\\Users\\diego\\AppData\\Local\\Temp\\ipykernel_2816\\1922176999.py:3: FutureWarning: The frame.append method is deprecated and will be removed from pandas in a future version. Use pandas.concat instead.\n",
      "  emp = emp.append(nueva_fila, ignore_index=True)\n"
     ]
    },
    {
     "data": {
      "text/html": [
       "<div>\n",
       "<style scoped>\n",
       "    .dataframe tbody tr th:only-of-type {\n",
       "        vertical-align: middle;\n",
       "    }\n",
       "\n",
       "    .dataframe tbody tr th {\n",
       "        vertical-align: top;\n",
       "    }\n",
       "\n",
       "    .dataframe thead th {\n",
       "        text-align: right;\n",
       "    }\n",
       "</style>\n",
       "<table border=\"1\" class=\"dataframe\">\n",
       "  <thead>\n",
       "    <tr style=\"text-align: right;\">\n",
       "      <th></th>\n",
       "      <th>staff_id</th>\n",
       "      <th>store_id</th>\n",
       "      <th>store</th>\n",
       "      <th>name</th>\n",
       "    </tr>\n",
       "  </thead>\n",
       "  <tbody>\n",
       "    <tr>\n",
       "      <th>0</th>\n",
       "      <td>1</td>\n",
       "      <td>1</td>\n",
       "      <td>Barcelona</td>\n",
       "      <td>Jorge</td>\n",
       "    </tr>\n",
       "    <tr>\n",
       "      <th>1</th>\n",
       "      <td>2</td>\n",
       "      <td>2</td>\n",
       "      <td>Madrid</td>\n",
       "      <td>Diego</td>\n",
       "    </tr>\n",
       "    <tr>\n",
       "      <th>2</th>\n",
       "      <td>3</td>\n",
       "      <td>1</td>\n",
       "      <td>Barcelona</td>\n",
       "      <td>Dani</td>\n",
       "    </tr>\n",
       "  </tbody>\n",
       "</table>\n",
       "</div>"
      ],
      "text/plain": [
       "   staff_id  store_id      store   name\n",
       "0         1         1  Barcelona  Jorge\n",
       "1         2         2     Madrid  Diego\n",
       "2         3         1  Barcelona   Dani"
      ]
     },
     "execution_count": 281,
     "metadata": {},
     "output_type": "execute_result"
    }
   ],
   "source": [
    "# Si queremos contratar a un nuevo empleado sería de la siguiente manera:\n",
    "nueva_fila = { 'staff_id': 3, 'store_id': 1,'store': 'Barcelona','name':'Dani'} # creamos un diccionario\n",
    "emp = emp.append(nueva_fila, ignore_index=True)\n",
    "\n",
    "#Así quedaría:\n",
    "emp"
   ]
  },
  {
   "cell_type": "code",
   "execution_count": null,
   "id": "bdb18836",
   "metadata": {},
   "outputs": [],
   "source": [
    "'''\n",
    "Hemos comprobado que la columna inventory_id no aporta ninguna información; no está relacionada con la tabla Inventory. \n",
    "Por lo tanto, decidimos eliminarla junto a la columna last_update. \n",
    "Pensamos que sería útil tener disposición de un film_id; lo añadimos. \n",
    "Preparamos la tabla para uso futuro de una forma que nos parece funcional.\"\n",
    "'''"
   ]
  },
  {
   "cell_type": "code",
   "execution_count": 286,
   "id": "f6939536",
   "metadata": {},
   "outputs": [],
   "source": [
    "rental1 = rental.copy() #hacemos una copia que será la nueva tabla."
   ]
  },
  {
   "cell_type": "code",
   "execution_count": 289,
   "id": "d268246f",
   "metadata": {},
   "outputs": [
    {
     "data": {
      "text/html": [
       "<div>\n",
       "<style scoped>\n",
       "    .dataframe tbody tr th:only-of-type {\n",
       "        vertical-align: middle;\n",
       "    }\n",
       "\n",
       "    .dataframe tbody tr th {\n",
       "        vertical-align: top;\n",
       "    }\n",
       "\n",
       "    .dataframe thead th {\n",
       "        text-align: right;\n",
       "    }\n",
       "</style>\n",
       "<table border=\"1\" class=\"dataframe\">\n",
       "  <thead>\n",
       "    <tr style=\"text-align: right;\">\n",
       "      <th></th>\n",
       "      <th>rental_id</th>\n",
       "      <th>rental_date</th>\n",
       "      <th>inventory_id</th>\n",
       "      <th>customer_id</th>\n",
       "      <th>return_date</th>\n",
       "      <th>staff_id</th>\n",
       "      <th>store_id</th>\n",
       "    </tr>\n",
       "  </thead>\n",
       "  <tbody>\n",
       "  </tbody>\n",
       "</table>\n",
       "</div>"
      ],
      "text/plain": [
       "Empty DataFrame\n",
       "Columns: [rental_id, rental_date, inventory_id, customer_id, return_date, staff_id, store_id]\n",
       "Index: []"
      ]
     },
     "execution_count": 289,
     "metadata": {},
     "output_type": "execute_result"
    }
   ],
   "source": [
    "rental1.drop(index=list(range(len(rental1))), inplace=True) #limpiamos el nuevo data frame //ELiminamos filas\n",
    "rental1['store_id'] =[] #Creamos una nueva columna\n",
    "rental1"
   ]
  },
  {
   "cell_type": "code",
   "execution_count": null,
   "id": "f810702e",
   "metadata": {},
   "outputs": [],
   "source": []
  }
 ],
 "metadata": {
  "kernelspec": {
   "display_name": "Python 3 (ipykernel)",
   "language": "python",
   "name": "python3"
  },
  "language_info": {
   "codemirror_mode": {
    "name": "ipython",
    "version": 3
   },
   "file_extension": ".py",
   "mimetype": "text/x-python",
   "name": "python",
   "nbconvert_exporter": "python",
   "pygments_lexer": "ipython3",
   "version": "3.9.12"
  }
 },
 "nbformat": 4,
 "nbformat_minor": 5
}
